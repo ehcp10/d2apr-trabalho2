{
 "cells": [
  {
   "cell_type": "code",
   "execution_count": null,
   "id": "cf71cebb-5f6b-4943-a89c-9283883c2402",
   "metadata": {},
   "outputs": [],
   "source": [
    "#### Cruva de aprendizado\n",
    "\n",
    "fig, ax = plt.subplots(figsize=(6,4))\n",
    "cv = StratifiedKFold(12)\n",
    "sizes = np.linspace(0.3, 1.0, 10)\n",
    "lc_rf_viz = LearningCurve(rf, cv=cv, train_sizes=sizes, scoring=\"f1_weighted\", n_jobs=4, ax=ax)\n",
    "lc_rf_viz.fit(X_train,y_train)\n",
    "cm_rf_viz.poof()\n",
    "fig.savefig(\"images/lc_rf.png\", dpi=300, bbox_inches=\"tight\")\n",
    "\n",
    "fig, ax = plt.subplots(figsize=(6,4))\n",
    "sizes = np.linspace(0.3, 1.0, 10)\n",
    "lc_rf_viz = LearningCurve(svcm, cv=cv, train_sizes=sizes, scoring=\"f1_weighted\", n_jobs=4, ax=ax)\n",
    "lc_rf_viz.fit(X_train,y_train)\n",
    "cm_rf_viz.poof()\n",
    "fig.savefig(\"images/lc_svc.png\", dpi=300, bbox_inches=\"tight\")\n",
    "\n",
    "fig, ax = plt.subplots(figsize=(6,4))\n",
    "sizes = np.linspace(0.3, 1.0, 10)\n",
    "lc_rf_viz = LearningCurve(lr, cv=cv, train_sizes=sizes, scoring=\"f1_weighted\", n_jobs=4, ax=ax)\n",
    "lc_rf_viz.fit(X_train,y_train)\n",
    "cm_rf_viz.poof()\n",
    "fig.savefig(\"images/lr_svc.png\", dpi=300, bbox_inches=\"tight\")"
   ]
  }
 ],
 "metadata": {
  "kernelspec": {
   "display_name": "Python 3 (ipykernel)",
   "language": "python",
   "name": "python3"
  },
  "language_info": {
   "codemirror_mode": {
    "name": "ipython",
    "version": 3
   },
   "file_extension": ".py",
   "mimetype": "text/x-python",
   "name": "python",
   "nbconvert_exporter": "python",
   "pygments_lexer": "ipython3",
   "version": "3.9.9"
  }
 },
 "nbformat": 4,
 "nbformat_minor": 5
}
