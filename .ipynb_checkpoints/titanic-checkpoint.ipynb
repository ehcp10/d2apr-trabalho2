{
 "cells": [
  {
   "cell_type": "markdown",
   "id": "970e10a2-43de-4481-833c-ee06724ef08a",
   "metadata": {},
   "source": [
    "# Trabalho 2 - Classificação Titanic"
   ]
  },
  {
   "cell_type": "markdown",
   "id": "f4277a4a-6c33-455e-8379-ddfe7350efe0",
   "metadata": {},
   "source": [
    "## Nome\n",
    "<p>Evandro Henrique Couto de Paula. Prontuário: 301358-8</p>"
   ]
  },
  {
   "cell_type": "code",
   "execution_count": 199,
   "id": "4d9ef7e9-f03c-47b4-ac67-d99a45de37b6",
   "metadata": {},
   "outputs": [
    {
     "name": "stdout",
     "output_type": "stream",
     "text": [
      "Using matplotlib backend: agg\n",
      "Populating the interactive namespace from numpy and matplotlib\n",
      "Requirement already satisfied: yellowbrick in /home/evandrocouto/pos/D2APR/d2apr/lib/python3.9/site-packages (1.3.post1)\n",
      "Requirement already satisfied: scikit-learn>=0.20 in /home/evandrocouto/pos/D2APR/d2apr/lib/python3.9/site-packages (from yellowbrick) (0.24.2)\n",
      "Requirement already satisfied: scipy>=1.0.0 in /home/evandrocouto/pos/D2APR/d2apr/lib/python3.9/site-packages (from yellowbrick) (1.7.1)\n",
      "Requirement already satisfied: matplotlib!=3.0.0,>=2.0.2 in /home/evandrocouto/pos/D2APR/d2apr/lib/python3.9/site-packages (from yellowbrick) (3.4.3)\n",
      "Requirement already satisfied: cycler>=0.10.0 in /home/evandrocouto/pos/D2APR/d2apr/lib/python3.9/site-packages (from yellowbrick) (0.10.0)\n",
      "Requirement already satisfied: numpy<1.20,>=1.16.0 in /home/evandrocouto/pos/D2APR/d2apr/lib/python3.9/site-packages (from yellowbrick) (1.19.5)\n",
      "Requirement already satisfied: six in /home/evandrocouto/pos/D2APR/d2apr/lib/python3.9/site-packages (from cycler>=0.10.0->yellowbrick) (1.16.0)\n",
      "Requirement already satisfied: pillow>=6.2.0 in /home/evandrocouto/pos/D2APR/d2apr/lib/python3.9/site-packages (from matplotlib!=3.0.0,>=2.0.2->yellowbrick) (8.3.1)\n",
      "Requirement already satisfied: python-dateutil>=2.7 in /home/evandrocouto/pos/D2APR/d2apr/lib/python3.9/site-packages (from matplotlib!=3.0.0,>=2.0.2->yellowbrick) (2.8.2)\n",
      "Requirement already satisfied: kiwisolver>=1.0.1 in /home/evandrocouto/pos/D2APR/d2apr/lib/python3.9/site-packages (from matplotlib!=3.0.0,>=2.0.2->yellowbrick) (1.3.1)\n",
      "Requirement already satisfied: pyparsing>=2.2.1 in /home/evandrocouto/pos/D2APR/d2apr/lib/python3.9/site-packages (from matplotlib!=3.0.0,>=2.0.2->yellowbrick) (2.4.7)\n",
      "Requirement already satisfied: joblib>=0.11 in /home/evandrocouto/pos/D2APR/d2apr/lib/python3.9/site-packages (from scikit-learn>=0.20->yellowbrick) (1.0.1)\n",
      "Requirement already satisfied: threadpoolctl>=2.0.0 in /home/evandrocouto/pos/D2APR/d2apr/lib/python3.9/site-packages (from scikit-learn>=0.20->yellowbrick) (2.2.0)\n",
      "\u001b[33mWARNING: You are using pip version 21.2.4; however, version 21.3.1 is available.\n",
      "You should consider upgrading via the '/home/evandrocouto/pos/D2APR/d2apr/bin/python -m pip install --upgrade pip' command.\u001b[0m\n"
     ]
    }
   ],
   "source": [
    "%pylab\n",
    "import sys\n",
    "!{sys.executable} -m pip install yellowbrick\n",
    "import pandas as pd\n",
    "import numpy as np\n",
    "import matplotlib.pyplot as plt\n",
    "import seaborn as sns\n",
    "from sklearn import (ensemble, preprocessing, tree )\n",
    "from sklearn.metrics import ( auc, confusion_matrix, roc_auc_score,  roc_curve) \n",
    "from sklearn.model_selection import (train_test_split,  StratifiedKFold )  \n",
    "from yellowbrick.classifier import (ConfusionMatrix, ROCAUC,)\n",
    "from yellowbrick.model_selection import(LearningCurve,)\n"
   ]
  },
  {
   "cell_type": "markdown",
   "id": "dea3c285-d2fe-47d1-ac94-e8259ec96c48",
   "metadata": {},
   "source": [
    "## Descrição do problema"
   ]
  },
  {
   "cell_type": "markdown",
   "id": "13291e63-3bfd-4de7-8023-74d4f7d2e99e",
   "metadata": {},
   "source": [
    "<p>O RMS Titatic foi um navio enconmendado pela operadora britânica White Star Line e tinha como objectivo ser uma embarcação altamente segura e luxuosa.</p>\n",
    "<p>Lançado ao mar no dia 31 de maio de 1911, o navio possuia núemeros impressionantes para a época, tinha 269m de comprimento, 53m de altura, capacidade de 2435 passageiros e 892 tripulantes e peso de 45 mil toneladas.</p>\n",
    "<p>A primeira viagem teve inicio no dia 10 de abril de 1912 e a rota da viagem era de southampton, na Inglaterra até Nova York, nos Estados Unidos</p>\n",
    "<p>No dia 14 de abril de 1912, durante a noite, o navio colidiu contra um iceberg e devido aos danos estruturais o navio afundou. Como não possuia botes salva vidas suficientes a maioria dos passaegeiros não conseguiu escapar e acabou vitima do naufrágio</p>\n",
    "<p>Cerca de 700 pessoas sobreviveram à tragédia e mais de 1500 acabaram falecendo entre eles o capitão Edward Smith e um dos projetistas do Titanic, o Engeneiro Thomas Andrews.</p>\n",
    "<p>Os dados fornecidos são uma lista dos passageiros do Navio e o objetivo do trabalho é utilizar algoritmos de classificação para tentar prever quais passageiros sobreviveu à tragédia</p>\n",
    "\n",
    "##### fonte: https://www1.folha.uol.com.br/webstories/cultura/2021/05/a-historia-do-titanic/"
   ]
  },
  {
   "cell_type": "markdown",
   "id": "1b6cb6f2-99e4-45dd-af67-fe403119fa2c",
   "metadata": {},
   "source": [
    "## Análise dos dados"
   ]
  },
  {
   "cell_type": "code",
   "execution_count": 200,
   "id": "0ebe4500-1669-49a6-96c9-4eeaf46dee68",
   "metadata": {},
   "outputs": [],
   "source": [
    "dados_treino = pd.read_csv('./titanic/train.csv', sep=',')"
   ]
  },
  {
   "cell_type": "code",
   "execution_count": 201,
   "id": "a1e2b472-3525-42aa-821d-9ee2f3e0210a",
   "metadata": {},
   "outputs": [
    {
     "data": {
      "text/html": [
       "<div>\n",
       "<style scoped>\n",
       "    .dataframe tbody tr th:only-of-type {\n",
       "        vertical-align: middle;\n",
       "    }\n",
       "\n",
       "    .dataframe tbody tr th {\n",
       "        vertical-align: top;\n",
       "    }\n",
       "\n",
       "    .dataframe thead th {\n",
       "        text-align: right;\n",
       "    }\n",
       "</style>\n",
       "<table border=\"1\" class=\"dataframe\">\n",
       "  <thead>\n",
       "    <tr style=\"text-align: right;\">\n",
       "      <th></th>\n",
       "      <th>PassengerId</th>\n",
       "      <th>Survived</th>\n",
       "      <th>Pclass</th>\n",
       "      <th>Name</th>\n",
       "      <th>Sex</th>\n",
       "      <th>Age</th>\n",
       "      <th>SibSp</th>\n",
       "      <th>Parch</th>\n",
       "      <th>Ticket</th>\n",
       "      <th>Fare</th>\n",
       "      <th>Cabin</th>\n",
       "      <th>Embarked</th>\n",
       "    </tr>\n",
       "  </thead>\n",
       "  <tbody>\n",
       "    <tr>\n",
       "      <th>0</th>\n",
       "      <td>1</td>\n",
       "      <td>0</td>\n",
       "      <td>3</td>\n",
       "      <td>Braund, Mr. Owen Harris</td>\n",
       "      <td>male</td>\n",
       "      <td>22.0</td>\n",
       "      <td>1</td>\n",
       "      <td>0</td>\n",
       "      <td>A/5 21171</td>\n",
       "      <td>7.2500</td>\n",
       "      <td>NaN</td>\n",
       "      <td>S</td>\n",
       "    </tr>\n",
       "    <tr>\n",
       "      <th>1</th>\n",
       "      <td>2</td>\n",
       "      <td>1</td>\n",
       "      <td>1</td>\n",
       "      <td>Cumings, Mrs. John Bradley (Florence Briggs Th...</td>\n",
       "      <td>female</td>\n",
       "      <td>38.0</td>\n",
       "      <td>1</td>\n",
       "      <td>0</td>\n",
       "      <td>PC 17599</td>\n",
       "      <td>71.2833</td>\n",
       "      <td>C85</td>\n",
       "      <td>C</td>\n",
       "    </tr>\n",
       "    <tr>\n",
       "      <th>2</th>\n",
       "      <td>3</td>\n",
       "      <td>1</td>\n",
       "      <td>3</td>\n",
       "      <td>Heikkinen, Miss. Laina</td>\n",
       "      <td>female</td>\n",
       "      <td>26.0</td>\n",
       "      <td>0</td>\n",
       "      <td>0</td>\n",
       "      <td>STON/O2. 3101282</td>\n",
       "      <td>7.9250</td>\n",
       "      <td>NaN</td>\n",
       "      <td>S</td>\n",
       "    </tr>\n",
       "    <tr>\n",
       "      <th>3</th>\n",
       "      <td>4</td>\n",
       "      <td>1</td>\n",
       "      <td>1</td>\n",
       "      <td>Futrelle, Mrs. Jacques Heath (Lily May Peel)</td>\n",
       "      <td>female</td>\n",
       "      <td>35.0</td>\n",
       "      <td>1</td>\n",
       "      <td>0</td>\n",
       "      <td>113803</td>\n",
       "      <td>53.1000</td>\n",
       "      <td>C123</td>\n",
       "      <td>S</td>\n",
       "    </tr>\n",
       "    <tr>\n",
       "      <th>4</th>\n",
       "      <td>5</td>\n",
       "      <td>0</td>\n",
       "      <td>3</td>\n",
       "      <td>Allen, Mr. William Henry</td>\n",
       "      <td>male</td>\n",
       "      <td>35.0</td>\n",
       "      <td>0</td>\n",
       "      <td>0</td>\n",
       "      <td>373450</td>\n",
       "      <td>8.0500</td>\n",
       "      <td>NaN</td>\n",
       "      <td>S</td>\n",
       "    </tr>\n",
       "  </tbody>\n",
       "</table>\n",
       "</div>"
      ],
      "text/plain": [
       "   PassengerId  Survived  Pclass  \\\n",
       "0            1         0       3   \n",
       "1            2         1       1   \n",
       "2            3         1       3   \n",
       "3            4         1       1   \n",
       "4            5         0       3   \n",
       "\n",
       "                                                Name     Sex   Age  SibSp  \\\n",
       "0                            Braund, Mr. Owen Harris    male  22.0      1   \n",
       "1  Cumings, Mrs. John Bradley (Florence Briggs Th...  female  38.0      1   \n",
       "2                             Heikkinen, Miss. Laina  female  26.0      0   \n",
       "3       Futrelle, Mrs. Jacques Heath (Lily May Peel)  female  35.0      1   \n",
       "4                           Allen, Mr. William Henry    male  35.0      0   \n",
       "\n",
       "   Parch            Ticket     Fare Cabin Embarked  \n",
       "0      0         A/5 21171   7.2500   NaN        S  \n",
       "1      0          PC 17599  71.2833   C85        C  \n",
       "2      0  STON/O2. 3101282   7.9250   NaN        S  \n",
       "3      0            113803  53.1000  C123        S  \n",
       "4      0            373450   8.0500   NaN        S  "
      ]
     },
     "execution_count": 201,
     "metadata": {},
     "output_type": "execute_result"
    }
   ],
   "source": [
    "dados_treino.head()"
   ]
  },
  {
   "cell_type": "code",
   "execution_count": 202,
   "id": "a1203167-991e-4b6f-abe6-ac8d726cbccb",
   "metadata": {},
   "outputs": [
    {
     "name": "stdout",
     "output_type": "stream",
     "text": [
      "<class 'pandas.core.frame.DataFrame'>\n",
      "RangeIndex: 891 entries, 0 to 890\n",
      "Data columns (total 12 columns):\n",
      " #   Column       Non-Null Count  Dtype  \n",
      "---  ------       --------------  -----  \n",
      " 0   PassengerId  891 non-null    int64  \n",
      " 1   Survived     891 non-null    int64  \n",
      " 2   Pclass       891 non-null    int64  \n",
      " 3   Name         891 non-null    object \n",
      " 4   Sex          891 non-null    object \n",
      " 5   Age          714 non-null    float64\n",
      " 6   SibSp        891 non-null    int64  \n",
      " 7   Parch        891 non-null    int64  \n",
      " 8   Ticket       891 non-null    object \n",
      " 9   Fare         891 non-null    float64\n",
      " 10  Cabin        204 non-null    object \n",
      " 11  Embarked     889 non-null    object \n",
      "dtypes: float64(2), int64(5), object(5)\n",
      "memory usage: 83.7+ KB\n"
     ]
    }
   ],
   "source": [
    "dados_treino.info()"
   ]
  },
  {
   "cell_type": "markdown",
   "id": "a7ed455b-aa9a-4af6-a7d7-a38dd924ccc7",
   "metadata": {},
   "source": [
    "#### Descrição dos dados\n",
    "\n",
    "coluna | tipo | Descrição\n",
    "-------|------|----------\n",
    "PassengerId  | numérico | Idenficador do passageiro no dataset\n",
    "Survived | numerico | Valor binário que identifica se o passagerio sobreviveu ou falaceu\n",
    "PClass | numérico | Identificador da classe de viagem do passageiro\n",
    "Name | texto | Nome do passageiro\n",
    "Sex | texto | Descrição do sexo do passageiro\n",
    "Age | numérico | A idade do passageiro\n",
    "Sibsp | numérico | número de irmãos e irmãs que o passageiro possuia abordo\n",
    "Parch | numérico | Número de filhos/pais que o passageiro possuia abordo\n",
    "Ticket | texto | Identificador da passagem do passageiro\n",
    "Fare | numérico | Valor da passagem pago pelo passageiro\n",
    "Cabin | Texto | Número da cabine do passageiro\n",
    "embarked | texto | Parada de embarque do passageiro\n"
   ]
  },
  {
   "cell_type": "markdown",
   "id": "293ff96f-31f6-4974-bf83-7b21c51841e1",
   "metadata": {},
   "source": [
    "### Analise dos números do dataframe"
   ]
  },
  {
   "cell_type": "code",
   "execution_count": 203,
   "id": "46ef078b-157e-4278-81d4-f60ce6b3c694",
   "metadata": {},
   "outputs": [
    {
     "data": {
      "text/html": [
       "<div>\n",
       "<style scoped>\n",
       "    .dataframe tbody tr th:only-of-type {\n",
       "        vertical-align: middle;\n",
       "    }\n",
       "\n",
       "    .dataframe tbody tr th {\n",
       "        vertical-align: top;\n",
       "    }\n",
       "\n",
       "    .dataframe thead th {\n",
       "        text-align: right;\n",
       "    }\n",
       "</style>\n",
       "<table border=\"1\" class=\"dataframe\">\n",
       "  <thead>\n",
       "    <tr style=\"text-align: right;\">\n",
       "      <th></th>\n",
       "      <th>PassengerId</th>\n",
       "      <th>Survived</th>\n",
       "      <th>Pclass</th>\n",
       "      <th>Age</th>\n",
       "      <th>SibSp</th>\n",
       "      <th>Parch</th>\n",
       "      <th>Fare</th>\n",
       "    </tr>\n",
       "  </thead>\n",
       "  <tbody>\n",
       "    <tr>\n",
       "      <th>count</th>\n",
       "      <td>891.000000</td>\n",
       "      <td>891.000000</td>\n",
       "      <td>891.000000</td>\n",
       "      <td>714.000000</td>\n",
       "      <td>891.000000</td>\n",
       "      <td>891.000000</td>\n",
       "      <td>891.000000</td>\n",
       "    </tr>\n",
       "    <tr>\n",
       "      <th>mean</th>\n",
       "      <td>446.000000</td>\n",
       "      <td>0.383838</td>\n",
       "      <td>2.308642</td>\n",
       "      <td>29.699118</td>\n",
       "      <td>0.523008</td>\n",
       "      <td>0.381594</td>\n",
       "      <td>32.204208</td>\n",
       "    </tr>\n",
       "    <tr>\n",
       "      <th>std</th>\n",
       "      <td>257.353842</td>\n",
       "      <td>0.486592</td>\n",
       "      <td>0.836071</td>\n",
       "      <td>14.526497</td>\n",
       "      <td>1.102743</td>\n",
       "      <td>0.806057</td>\n",
       "      <td>49.693429</td>\n",
       "    </tr>\n",
       "    <tr>\n",
       "      <th>min</th>\n",
       "      <td>1.000000</td>\n",
       "      <td>0.000000</td>\n",
       "      <td>1.000000</td>\n",
       "      <td>0.420000</td>\n",
       "      <td>0.000000</td>\n",
       "      <td>0.000000</td>\n",
       "      <td>0.000000</td>\n",
       "    </tr>\n",
       "    <tr>\n",
       "      <th>25%</th>\n",
       "      <td>223.500000</td>\n",
       "      <td>0.000000</td>\n",
       "      <td>2.000000</td>\n",
       "      <td>20.125000</td>\n",
       "      <td>0.000000</td>\n",
       "      <td>0.000000</td>\n",
       "      <td>7.910400</td>\n",
       "    </tr>\n",
       "    <tr>\n",
       "      <th>50%</th>\n",
       "      <td>446.000000</td>\n",
       "      <td>0.000000</td>\n",
       "      <td>3.000000</td>\n",
       "      <td>28.000000</td>\n",
       "      <td>0.000000</td>\n",
       "      <td>0.000000</td>\n",
       "      <td>14.454200</td>\n",
       "    </tr>\n",
       "    <tr>\n",
       "      <th>75%</th>\n",
       "      <td>668.500000</td>\n",
       "      <td>1.000000</td>\n",
       "      <td>3.000000</td>\n",
       "      <td>38.000000</td>\n",
       "      <td>1.000000</td>\n",
       "      <td>0.000000</td>\n",
       "      <td>31.000000</td>\n",
       "    </tr>\n",
       "    <tr>\n",
       "      <th>max</th>\n",
       "      <td>891.000000</td>\n",
       "      <td>1.000000</td>\n",
       "      <td>3.000000</td>\n",
       "      <td>80.000000</td>\n",
       "      <td>8.000000</td>\n",
       "      <td>6.000000</td>\n",
       "      <td>512.329200</td>\n",
       "    </tr>\n",
       "  </tbody>\n",
       "</table>\n",
       "</div>"
      ],
      "text/plain": [
       "       PassengerId    Survived      Pclass         Age       SibSp  \\\n",
       "count   891.000000  891.000000  891.000000  714.000000  891.000000   \n",
       "mean    446.000000    0.383838    2.308642   29.699118    0.523008   \n",
       "std     257.353842    0.486592    0.836071   14.526497    1.102743   \n",
       "min       1.000000    0.000000    1.000000    0.420000    0.000000   \n",
       "25%     223.500000    0.000000    2.000000   20.125000    0.000000   \n",
       "50%     446.000000    0.000000    3.000000   28.000000    0.000000   \n",
       "75%     668.500000    1.000000    3.000000   38.000000    1.000000   \n",
       "max     891.000000    1.000000    3.000000   80.000000    8.000000   \n",
       "\n",
       "            Parch        Fare  \n",
       "count  891.000000  891.000000  \n",
       "mean     0.381594   32.204208  \n",
       "std      0.806057   49.693429  \n",
       "min      0.000000    0.000000  \n",
       "25%      0.000000    7.910400  \n",
       "50%      0.000000   14.454200  \n",
       "75%      0.000000   31.000000  \n",
       "max      6.000000  512.329200  "
      ]
     },
     "execution_count": 203,
     "metadata": {},
     "output_type": "execute_result"
    }
   ],
   "source": [
    "dados_treino.describe()"
   ]
  },
  {
   "cell_type": "code",
   "execution_count": 204,
   "id": "da6cd9d9-7f74-40e5-9c0b-f9c9ce8bb023",
   "metadata": {},
   "outputs": [
    {
     "data": {
      "text/plain": [
       "array([[<AxesSubplot:title={'center':'PassengerId'}>,\n",
       "        <AxesSubplot:title={'center':'Survived'}>,\n",
       "        <AxesSubplot:title={'center':'Pclass'}>],\n",
       "       [<AxesSubplot:title={'center':'Age'}>,\n",
       "        <AxesSubplot:title={'center':'SibSp'}>,\n",
       "        <AxesSubplot:title={'center':'Parch'}>],\n",
       "       [<AxesSubplot:title={'center':'Fare'}>, <AxesSubplot:>,\n",
       "        <AxesSubplot:>]], dtype=object)"
      ]
     },
     "execution_count": 204,
     "metadata": {},
     "output_type": "execute_result"
    }
   ],
   "source": [
    "dados_treino.hist(figsize=(10, 10), bins=10)"
   ]
  },
  {
   "cell_type": "code",
   "execution_count": 205,
   "id": "dc8bd110-598f-491b-8add-f5b28eed289f",
   "metadata": {},
   "outputs": [
    {
     "data": {
      "text/plain": [
       "<AxesSubplot:>"
      ]
     },
     "execution_count": 205,
     "metadata": {},
     "output_type": "execute_result"
    }
   ],
   "source": [
    "dados_treino.boxplot(figsize=(10, 10), column=['SibSp', 'Parch'])"
   ]
  },
  {
   "cell_type": "code",
   "execution_count": 206,
   "id": "19e1f11e-dd6b-4507-914b-87a443689301",
   "metadata": {},
   "outputs": [
    {
     "data": {
      "text/plain": [
       "<AxesSubplot:>"
      ]
     },
     "execution_count": 206,
     "metadata": {},
     "output_type": "execute_result"
    }
   ],
   "source": [
    "dados_treino.boxplot(figsize=(10, 10), column=['Age'])"
   ]
  },
  {
   "cell_type": "code",
   "execution_count": 207,
   "id": "5fce9ef1-4ee1-479f-8ecd-a24664f1a398",
   "metadata": {},
   "outputs": [
    {
     "data": {
      "text/plain": [
       "<AxesSubplot:>"
      ]
     },
     "execution_count": 207,
     "metadata": {},
     "output_type": "execute_result"
    }
   ],
   "source": [
    "dados_treino.boxplot(figsize=(10, 10), column=['Fare'])"
   ]
  },
  {
   "cell_type": "code",
   "execution_count": 208,
   "id": "f66f6cd3-c9ac-438d-af67-e157d55696e9",
   "metadata": {},
   "outputs": [
    {
     "data": {
      "text/plain": [
       "<AxesSubplot:>"
      ]
     },
     "execution_count": 208,
     "metadata": {},
     "output_type": "execute_result"
    }
   ],
   "source": [
    "dados_treino.boxplot(figsize=(10, 10), column=['Survived'])"
   ]
  },
  {
   "cell_type": "code",
   "execution_count": 209,
   "id": "2853324b-4123-4035-a0e4-c86fd57af0a1",
   "metadata": {},
   "outputs": [],
   "source": [
    "plt.figure(figsize=(12,17))\n",
    "plt.title(\"Distribuição sobreviventes por idade \")\n",
    "ax = sns.histplot(data=dados_treino, x='Age', hue='Survived', palette='hot', bins=30)\n",
    "ax.legend(['Falecido', 'Sobreviviente'])\n",
    "ax.set_ylabel('Número de Passageiros', fontsize=14)\n",
    "ax.set_xlabel('Idade', fontsize=14)\n",
    "ax = ax"
   ]
  },
  {
   "cell_type": "code",
   "execution_count": 210,
   "id": "95178dc3-5c05-479b-a058-51b53b161a67",
   "metadata": {},
   "outputs": [
    {
     "data": {
      "text/plain": [
       "Text(0.5, 0, 'Deck')"
      ]
     },
     "execution_count": 210,
     "metadata": {},
     "output_type": "execute_result"
    }
   ],
   "source": [
    "plt.figure(figsize=(8,10))\n",
    "plt.title(\"Distribuição sobreviventes por deck de viagem \")\n",
    "ax = sns.histplot(dados_treino.query('Survived == 1'), x='Pclass', bins=3)\n",
    "ax.set_ylabel('Número de Passageiros', fontsize=14)\n",
    "ax.set_xlabel('Deck', fontsize=14)"
   ]
  },
  {
   "cell_type": "code",
   "execution_count": 211,
   "id": "9ed0e73e-8c17-45ae-91fe-0224c7044b89",
   "metadata": {},
   "outputs": [
    {
     "data": {
      "text/plain": [
       "Text(0.5, 0, 'Deck')"
      ]
     },
     "execution_count": 211,
     "metadata": {},
     "output_type": "execute_result"
    }
   ],
   "source": [
    "plt.figure(figsize=(8,10))\n",
    "plt.title(\"Distribuição Falecidos por deck de viagem \")\n",
    "ax = sns.histplot(dados_treino.query('Survived == 0'), x='Pclass', bins=3)\n",
    "ax.set_ylabel('Número de Passageiros', fontsize=14)\n",
    "ax.set_xlabel('Deck', fontsize=14)"
   ]
  },
  {
   "cell_type": "markdown",
   "id": "e20b9d29-bc9c-48a4-a763-ac3b0eb24525",
   "metadata": {},
   "source": [
    "## Preparação dos dados"
   ]
  },
  {
   "cell_type": "markdown",
   "id": "840b0ea2-f02c-4ebc-b240-8af5017b9157",
   "metadata": {},
   "source": [
    "#### Removendo colunas não relavantes para o treinamento"
   ]
  },
  {
   "cell_type": "code",
   "execution_count": 212,
   "id": "7d06629d-3277-4c8d-ba67-3b659d07a847",
   "metadata": {},
   "outputs": [
    {
     "data": {
      "text/plain": [
       "Index(['PassengerId', 'Survived', 'Pclass', 'Age', 'SibSp', 'Parch', 'Fare',\n",
       "       'Sex_male', 'Embarked_Q', 'Embarked_S'],\n",
       "      dtype='object')"
      ]
     },
     "execution_count": 212,
     "metadata": {},
     "output_type": "execute_result"
    }
   ],
   "source": [
    "df_modelo = dados_treino.drop(columns=[\"Name\", 'Ticket', 'Cabin'])\n",
    "\n",
    "\n",
    "### Criando as variaveis dummies\n",
    "df_modelo = pd.get_dummies(df_modelo, drop_first=True)\n",
    "\n",
    "df_modelo.columns"
   ]
  },
  {
   "cell_type": "code",
   "execution_count": 213,
   "id": "66da6885-c24f-4886-be59-e92eb0a90c77",
   "metadata": {},
   "outputs": [],
   "source": [
    "#### Separando os atributos e as labels\n",
    "y = df_modelo.Survived\n",
    "X = df_modelo.drop(columns= \"Survived\")"
   ]
  },
  {
   "cell_type": "markdown",
   "id": "b28802f2-8771-460d-bb63-a8aac25b2373",
   "metadata": {},
   "source": [
    "#### Separando as amostras"
   ]
  },
  {
   "cell_type": "code",
   "execution_count": 214,
   "id": "50cc6f24-d03f-4d1b-b924-f284ae7d08f1",
   "metadata": {},
   "outputs": [
    {
     "name": "stdout",
     "output_type": "stream",
     "text": [
      "(712, 9)\n",
      "712\n"
     ]
    }
   ],
   "source": [
    "X_train, X_test, y_train, y_test = train_test_split(X, y, test_size=0.2, random_state=42)\n",
    "\n",
    "print(X_train.shape)\n",
    "print(y_train.size)"
   ]
  },
  {
   "cell_type": "code",
   "execution_count": 234,
   "id": "679b9684-6967-4c73-aa6d-3abf0f522625",
   "metadata": {},
   "outputs": [],
   "source": [
    "from sklearn.impute import SimpleImputer\n",
    "from sklearn.pipeline import Pipeline\n",
    "from sklearn.preprocessing import RobustScaler\n",
    "from sklearn.compose import ColumnTransformer\n",
    "\n",
    "medianas = X_train.median()\n",
    "X_train = X_train.fillna(medianas)\n",
    "X_test = X_test.fillna(medianas)\n",
    "\n",
    "colunas = \"Pclass,age,sibsp,fare\".split(\",\")\n",
    "scaler = RobustScaler()\n",
    "X_train = scaler.fit_transform(X_train)\n",
    "X_train = pd.DataFrame(X_train)\n",
    "X_test = scaler.fit_transform(X_test)\n",
    "X_test = pd.DataFrame(X_test)\n"
   ]
  },
  {
   "cell_type": "markdown",
   "id": "be6bff6d-cb2e-45cb-97c2-699dcbc97ca0",
   "metadata": {},
   "source": [
    "## Treinando os Modelos"
   ]
  },
  {
   "cell_type": "code",
   "execution_count": 216,
   "id": "0e4a660b-90d0-4257-8ebe-1ecabc0f05af",
   "metadata": {},
   "outputs": [],
   "source": [
    "from sklearn.model_selection import cross_val_score\n",
    "from sklearn.model_selection import KFold\n",
    "from sklearn.linear_model import LogisticRegression\n",
    "from sklearn.tree import DecisionTreeClassifier\n",
    "from sklearn.neighbors import KNeighborsClassifier\n",
    "from sklearn.naive_bayes import GaussianNB\n",
    "from sklearn.svm import SVC\n",
    "from sklearn.ensemble import RandomForestClassifier"
   ]
  },
  {
   "cell_type": "code",
   "execution_count": 217,
   "id": "2a29e291-047d-473a-ae12-dedd47b7583a",
   "metadata": {},
   "outputs": [
    {
     "name": "stdout",
     "output_type": "stream",
     "text": [
      "LogisticRegression     AUC: 0.848 Dsesvio Padrão: 0.04\n",
      "DecisionTreeClassifier AUC: 0.730 Dsesvio Padrão: 0.04\n",
      "KNeighborsClassifier   AUC: 0.829 Dsesvio Padrão: 0.05\n",
      "GaussianNB             AUC: 0.826 Dsesvio Padrão: 0.04\n",
      "SVC                    AUC: 0.843 Dsesvio Padrão: 0.04\n",
      "RandomForestClassifier AUC: 0.861 Dsesvio Padrão: 0.05\n"
     ]
    }
   ],
   "source": [
    "X_eval = pd.concat([X_train, X_test])\n",
    "y_eval = pd.concat([y_train, y_test])\n",
    "for model in [LogisticRegression, DecisionTreeClassifier, KNeighborsClassifier, GaussianNB, SVC, RandomForestClassifier]:\n",
    "    classificador = model()\n",
    "    kfold = KFold(n_splits=10, random_state=42, shuffle=True)\n",
    "    score = cross_val_score(classificador, X_eval, y_eval, scoring=\"roc_auc\", cv=kfold)\n",
    "    print(\n",
    "        f\"{model.__name__:22} AUC: {score.mean():.3f} Dsesvio Padrão: {score.std():.2f}\" )"
   ]
  },
  {
   "cell_type": "markdown",
   "id": "7d587743-e150-4a1d-96b7-93ca9e74686d",
   "metadata": {},
   "source": [
    "#### Selecionando modelos a ser utilizados\n",
    "Analisando o resultado da AUC os medelos que serão analisados serão Regressão Logística, SVC, e RandomForest"
   ]
  },
  {
   "cell_type": "code",
   "execution_count": 218,
   "id": "c357c0a0-c15b-47e1-b5cb-9c35a4390c9c",
   "metadata": {},
   "outputs": [
    {
     "name": "stdout",
     "output_type": "stream",
     "text": [
      "O modelo RandomForest tem um score de 0.7932960893854749  e precisão de 0.8363636363636363\n",
      "O modelo SVC tem um score de 0.8100558659217877  e precisão de 0.7941176470588235\n",
      "O modelo LogisticRegression tem um score de 0.7988826815642458  e precisão de 0.796875\n"
     ]
    }
   ],
   "source": [
    "from sklearn.metrics import precision_score\n",
    "\n",
    "svcm = SVC()\n",
    "rf = RandomForestClassifier()\n",
    "lr = LogisticRegression()\n",
    "\n",
    "rf.fit(X_train, y_train)\n",
    "svcm.fit(X_train, y_train)\n",
    "lr.fit(X_train, y_train)\n",
    "\n",
    "### Regressão Logistica\n",
    "lr_score = lr.score(X_test, y_test)\n",
    "lr_precision = precision_score(y_test, lr.predict(X_test))\n",
    "svcm_score = svcm.score(X_test, y_test)\n",
    "svcm_precision = precision_score(y_test, svcm.predict(X_test))\n",
    "rf_score = rf.score(X_test, y_test)\n",
    "rf_precision = precision_score(y_test, rf.predict(X_test))\n",
    "\n",
    "print(f\"O modelo RandomForest tem um score de {rf_score}  e precisão de {rf_precision}\")\n",
    "print(f\"O modelo SVC tem um score de {svcm_score}  e precisão de {svcm_precision}\")\n",
    "print(f\"O modelo LogisticRegression tem um score de {lr_score}  e precisão de {lr_precision}\")"
   ]
  },
  {
   "cell_type": "markdown",
   "id": "84de4d63-3a75-4da4-91a3-f784d5b20f3c",
   "metadata": {},
   "source": [
    "## Analise dos resultados"
   ]
  },
  {
   "cell_type": "code",
   "execution_count": 233,
   "id": "3bbf15ef-70c1-4a5e-98b2-663164ff4ee3",
   "metadata": {},
   "outputs": [
    {
     "name": "stderr",
     "output_type": "stream",
     "text": [
      "/home/evandrocouto/pos/D2APR/d2apr/lib/python3.9/site-packages/yellowbrick/classifier/base.py:251: YellowbrickWarning: both classes and encoder specified, using encoder\n",
      "  warnings.warn(\n",
      "/home/evandrocouto/pos/D2APR/d2apr/lib/python3.9/site-packages/yellowbrick/classifier/base.py:232: YellowbrickWarning: could not determine class_counts_ from previously fitted classifier\n",
      "  warnings.warn(\n",
      "/home/evandrocouto/pos/D2APR/d2apr/lib/python3.9/site-packages/yellowbrick/classifier/base.py:251: YellowbrickWarning: both classes and encoder specified, using encoder\n",
      "  warnings.warn(\n",
      "/home/evandrocouto/pos/D2APR/d2apr/lib/python3.9/site-packages/yellowbrick/classifier/base.py:309: YellowbrickWarning: both classes and encoder specified, using encoder\n",
      "  warnings.warn(\n",
      "/home/evandrocouto/pos/D2APR/d2apr/lib/python3.9/site-packages/yellowbrick/classifier/base.py:309: YellowbrickWarning: both classes and encoder specified, using encoder\n",
      "  warnings.warn(\n",
      "/home/evandrocouto/pos/D2APR/d2apr/lib/python3.9/site-packages/yellowbrick/classifier/base.py:251: YellowbrickWarning: both classes and encoder specified, using encoder\n",
      "  warnings.warn(\n",
      "/home/evandrocouto/pos/D2APR/d2apr/lib/python3.9/site-packages/yellowbrick/classifier/base.py:232: YellowbrickWarning: could not determine class_counts_ from previously fitted classifier\n",
      "  warnings.warn(\n",
      "/home/evandrocouto/pos/D2APR/d2apr/lib/python3.9/site-packages/yellowbrick/classifier/base.py:251: YellowbrickWarning: both classes and encoder specified, using encoder\n",
      "  warnings.warn(\n",
      "/home/evandrocouto/pos/D2APR/d2apr/lib/python3.9/site-packages/yellowbrick/classifier/base.py:309: YellowbrickWarning: both classes and encoder specified, using encoder\n",
      "  warnings.warn(\n",
      "/home/evandrocouto/pos/D2APR/d2apr/lib/python3.9/site-packages/yellowbrick/classifier/base.py:309: YellowbrickWarning: both classes and encoder specified, using encoder\n",
      "  warnings.warn(\n",
      "/home/evandrocouto/pos/D2APR/d2apr/lib/python3.9/site-packages/yellowbrick/classifier/base.py:251: YellowbrickWarning: both classes and encoder specified, using encoder\n",
      "  warnings.warn(\n",
      "/home/evandrocouto/pos/D2APR/d2apr/lib/python3.9/site-packages/yellowbrick/classifier/base.py:232: YellowbrickWarning: could not determine class_counts_ from previously fitted classifier\n",
      "  warnings.warn(\n",
      "/home/evandrocouto/pos/D2APR/d2apr/lib/python3.9/site-packages/yellowbrick/classifier/base.py:251: YellowbrickWarning: both classes and encoder specified, using encoder\n",
      "  warnings.warn(\n",
      "/home/evandrocouto/pos/D2APR/d2apr/lib/python3.9/site-packages/yellowbrick/classifier/base.py:309: YellowbrickWarning: both classes and encoder specified, using encoder\n",
      "  warnings.warn(\n",
      "/home/evandrocouto/pos/D2APR/d2apr/lib/python3.9/site-packages/yellowbrick/classifier/base.py:309: YellowbrickWarning: both classes and encoder specified, using encoder\n",
      "  warnings.warn(\n"
     ]
    }
   ],
   "source": [
    "### Matriz de confusão\n",
    "from sklearn.metrics import confusion_matrix\n",
    "\n",
    "mapping = {0: \"Morto\", 1:\"Sobrevivente\"}\n",
    "\n",
    "fig, ax = plt.subplots(figsize=(6,6))\n",
    "cm_rf_viz = ConfusionMatrix(rf, classes=[\"died\",\"survived\"], encoder=mapping)\n",
    "cm_rf_viz.score(X_test, y_test)\n",
    "cm_rf_viz.poof()\n",
    "fig.savefig(\"images/cm_rf.png\", dpi=300, bbox_inches=\"tight\")\n",
    "\n",
    "fig, ax = plt.subplots(figsize=(6,6))\n",
    "cm_svc_viz = ConfusionMatrix(svcm, classes=[\"died\",\"survived\"], encoder=mapping)\n",
    "cm_svc_viz.score(X_test, y_test)\n",
    "cm_svc_viz.poof()\n",
    "fig.savefig(\"images/cm_svc.png\", dpi=300, bbox_inches=\"tight\")\n",
    "\n",
    "\n",
    "fig, ax = plt.subplots(figsize=(6,6))\n",
    "cm_lr_viz = ConfusionMatrix(lr, classes=[\"died\",\"survived\"], encoder=mapping)\n",
    "cm_lr_viz.score(X_test, y_test)\n",
    "cm_lr_viz.poof()\n",
    "fig.savefig(\"images/cm_lr.png\", dpi=300, bbox_inches=\"tight\")\n"
   ]
  },
  {
   "cell_type": "markdown",
   "id": "45851eb1-6b69-4a76-b85d-4006e089c0c4",
   "metadata": {},
   "source": [
    "### Resultados"
   ]
  },
  {
   "cell_type": "code",
   "execution_count": null,
   "id": "133bcd22-56eb-4ef7-8b4c-7de4594b1fba",
   "metadata": {},
   "outputs": [],
   "source": [
    "print(f\"{}\")"
   ]
  },
  {
   "cell_type": "markdown",
   "id": "1e23d254-fc56-4b2d-a842-2e3d22e4220f",
   "metadata": {},
   "source": [
    "#### RandomForest\n",
    "<img src=\"images/cm_rf.png\" alt=\"drawing\" width=\"600\"/>\n",
    "<br>\n",
    "<br>"
   ]
  },
  {
   "cell_type": "code",
   "execution_count": null,
   "id": "868b63e5-9f8a-461d-8dbd-9b790769f7ab",
   "metadata": {},
   "outputs": [],
   "source": [
    "print(f\"{}\")"
   ]
  },
  {
   "cell_type": "markdown",
   "id": "b3258eaa-75b3-4992-ac20-f98835518507",
   "metadata": {},
   "source": [
    "#### SVC\n",
    "<p></p>\n",
    "<img src=\"images/cm_svc.png\" alt=\"drawing\" width=\"600\"/>\n",
    "<br>\n",
    "<br>"
   ]
  },
  {
   "cell_type": "code",
   "execution_count": null,
   "id": "8356d885-2832-4b23-b59c-e0694cd6fced",
   "metadata": {},
   "outputs": [],
   "source": [
    "print(f\"{}\")"
   ]
  },
  {
   "cell_type": "markdown",
   "id": "92333b98-fa6c-4630-8fc8-737d481f59ae",
   "metadata": {
    "tags": []
   },
   "source": [
    "#### LogisticRegression\n",
    "<p></p>\n",
    "<img src=\"images/cm_lr.png\" alt=\"drawing\" width=\"600\"/>"
   ]
  },
  {
   "cell_type": "code",
   "execution_count": null,
   "id": "73b60e98-8011-4a45-a67a-03c41201fdf8",
   "metadata": {},
   "outputs": [],
   "source": []
  }
 ],
 "metadata": {
  "kernelspec": {
   "display_name": "Python 3 (ipykernel)",
   "language": "python",
   "name": "python3"
  },
  "language_info": {
   "codemirror_mode": {
    "name": "ipython",
    "version": 3
   },
   "file_extension": ".py",
   "mimetype": "text/x-python",
   "name": "python",
   "nbconvert_exporter": "python",
   "pygments_lexer": "ipython3",
   "version": "3.9.9"
  }
 },
 "nbformat": 4,
 "nbformat_minor": 5
}
